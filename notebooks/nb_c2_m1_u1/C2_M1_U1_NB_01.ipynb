{
 "cells": [
  {
   "cell_type": "markdown",
   "metadata": {},
   "source": [
    "# Ejemplo de diseño interactivo y diseño recursivo\n",
    "\n",
    "## Algoritmo factorial\n",
    "\n",
    "En la siguiente figura, observa la definición matemática de factorial.\n",
    "\n",
    "![factorial paso a paso](./imagenes/factorial_def_rec_0.png)\n",
    "\n",
    "En la primera línea te muestra el cómputo para el factorial de `0`, luego el factorial de `1`, y así sucesivamente. Y la última línea te muestra el cómputo para factorial `n`.\n",
    "\n",
    "Ahora, si observas de nuevo la segunda línea factorial de `n=1` (`factorial(1)`), aunque esta parte de un valor inmediato (`1`), este se puede reescribir de forma que utilice el cómputo de la línea anterior, es decir que la puedes computar con `1 * factorial(0)`, en la segunda línea podemos calcular el factorial de `factorial(2)` con el mismo principio y continuar así hasta reescribir las anteriores ecuaciones basadas en los valores factoriales anteriores.\n",
    "\n",
    "![factorial](./imagenes/factorial_def_rec_1.png)\n",
    "\n",
    "Ahora a partir de las anteriores ecuaciones ya puedes definir de forma recursiva la función factorial como mostramos a continuación:\n",
    "\n",
    "![factorial](./imagenes/factorial_def_rec.png)\n",
    "\n",
    "Esta definición recursiva comprende dos casos:\n",
    "\n",
    "1. El caso recursivo, que comienza con `n`, y que computa el valor del factorial de n, pero deja pendiente de forma recursiva el cómputo a través de la invocación recursiva de la función con el valor previo.\n",
    "2. El caso base `0` cuyo resultado es `1` y que nos servirá de mecanismo de parada.\n",
    "\n",
    "Ya con esta definición implementa en Scala la función `factorial` recursiva:"
   ]
  },
  {
   "cell_type": "code",
   "execution_count": null,
   "metadata": {
    "solution2": "hidden",
    "solution2_first": true
   },
   "outputs": [],
   "source": [
    "def factorial(n:Int):Int = ???"
   ]
  },
  {
   "cell_type": "code",
   "execution_count": null,
   "metadata": {
    "solution2": "hidden"
   },
   "outputs": [],
   "source": [
    "def factorial(n:Int):Int = n match {\n",
    "    case 0 => 1\n",
    "    case 1 => n * factorial(n - 1)\n",
    "}"
   ]
  },
  {
   "cell_type": "markdown",
   "metadata": {},
   "source": [
    "## Algoritmo de suma\n",
    "\n",
    "Si implementarás una función que sume dos valores, la implementarías de la siguiente manera (sin recursividad):"
   ]
  },
  {
   "cell_type": "code",
   "execution_count": null,
   "metadata": {},
   "outputs": [],
   "source": [
    "def suma(a:Int, b:Int) = a + b"
   ]
  },
  {
   "cell_type": "markdown",
   "metadata": {},
   "source": [
    "Ahora, buscarás otra forma implementar la función de suma de forma recursiva que llamarás `sumaRec` (***que solamente aceptará entero positivos***), esto te permitirá enfocarte sobre el diseño recursivo. Esta función `sumaRec` tendrá la siguiente firma:"
   ]
  },
  {
   "cell_type": "code",
   "execution_count": null,
   "metadata": {},
   "outputs": [],
   "source": [
    "def sumaRec(a:Int, b:Int):Int = ???"
   ]
  },
  {
   "cell_type": "markdown",
   "metadata": {},
   "source": [
    "Observa en primer lugar que la `sumaRec` indicará el tipo de retorno, esto es ***fundamental*** en la funciones recursivas.\n",
    "\n",
    "Ahora, para que implementes la función de `sumaRec`, lo harás a través de dos operaciones internas: `incr` y `decr`, donde la primera incrementa un entero en uno y la segunda lo decrementa en uno. "
   ]
  },
  {
   "cell_type": "code",
   "execution_count": null,
   "metadata": {},
   "outputs": [],
   "source": [
    "def incr(n:Int) = n + 1\n",
    "def decr(n:Int) = n - 1"
   ]
  },
  {
   "cell_type": "markdown",
   "metadata": {},
   "source": [
    "La definición de `sumaRec` se hace de la siguiente forma:\n",
    "![sumaRec](./imagenes/sumarec_def.png)\n",
    "\n",
    "A continuación, está la firma de la función `sumaRec`, implementa la función adicionado un cuerpo de acuerdo a la definición siguiente:"
   ]
  },
  {
   "cell_type": "markdown",
   "metadata": {},
   "source": [
    "**Pista:** Sustituyé la siguiente función con este posible cuerpo y complétalo:\n",
    "\n",
    "```{.scala}\n",
    "def sumaRec(a:Int,b:Int):Int = (a,b) match {\n",
    "   case (...,...) => ....\n",
    "}\n",
    "```"
   ]
  },
  {
   "cell_type": "code",
   "execution_count": null,
   "metadata": {
    "solution2": "hidden",
    "solution2_first": true
   },
   "outputs": [],
   "source": [
    "def sumaRec(a:Int,b:Int):Int = ???"
   ]
  },
  {
   "cell_type": "code",
   "execution_count": null,
   "metadata": {
    "solution2": "hidden"
   },
   "outputs": [],
   "source": [
    "def sumaRec(a:Int,b:Int):Int = (a,b) match {\n",
    "    case (a,0) => a\n",
    "    case (0,b) => b\n",
    "    case (a,b) => sumaRec(incr(a),decr(b))\n",
    "}"
   ]
  }
 ],
 "metadata": {
  "kernelspec": {
   "display_name": "Scala",
   "language": "scala",
   "name": "scala"
  },
  "language_info": {
   "codemirror_mode": "text/x-scala",
   "file_extension": ".sc",
   "mimetype": "text/x-scala",
   "name": "scala",
   "nbconvert_exporter": "script",
   "version": "2.13.3"
  }
 },
 "nbformat": 4,
 "nbformat_minor": 4
}
