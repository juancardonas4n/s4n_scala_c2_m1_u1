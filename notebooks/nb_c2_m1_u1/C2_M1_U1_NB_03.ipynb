{
 "cells": [
  {
   "cell_type": "markdown",
   "metadata": {},
   "source": [
    "# Preliminar\n",
    "\n",
    "Para poder ejecutar los ejercicios de este *notebook* es necesario que *ejecute* la siguiente celda de forma que las funciones que se requieran para implementar nuestras soluciones ya se encuentre presentes."
   ]
  },
  {
   "cell_type": "code",
   "execution_count": null,
   "metadata": {},
   "outputs": [],
   "source": [
    "def abs(n:Int) = scala.math.abs(n)"
   ]
  },
  {
   "cell_type": "markdown",
   "metadata": {},
   "source": [
    "# Ejercicios\n",
    "\n",
    "## Conversión de `int2String`\n",
    "\n",
    "Implementarás una función de conversión de un número entero de tipo `Int` a una lista de caracteres que contiene los mismo dígitos pero en formato de caracteres, llamada `int2String`.\n",
    "\n",
    "Para entender como implementarás esta transformación, tienes que entender como se almacena los datos en la memoria del computador. \n",
    "\n",
    "En primer lugar, en la memoria del computador los datos son guardados como una secuencia de números binarios de un tamaño específico, en particular el tipo carácter (`Char`) es un tipo numérico, la letra `‘A’` es en realidad el valor numérico decimal `65`, la letra `‘B’` es el valor numérico `66` y así.\n",
    "\n",
    "Lo mismo ocurre con los dígitos, el carácter `‘0’` es almacenado cómo el valor decimal `48` y el carácter `‘1’` es almacenado cómo el valor decimal `49`, y así. Entonces, si se tiene un valor número `5` (`d`), para obtener su correspondiente carácter se aplica la siguiente fórmula: `(d + ‘0’).toChar` para obtener su correspondiente carácter. La función inversa, convertir un carácter numérico (`c`) a su correspondiente valor decimal es: `c - ‘0’`. \n",
    "\n",
    "Bien, ten en cuenta que un número decimal puede ser transformado en una secuencia de carácteres. Lo primero es que debes obtener un dígito de un número decial. Observa la operación residuo (`%`), esta se obtiene el residuo de dividir un número x por un n, y el residuo es siempre un valor que va de `0` a `n-1`. Ahora, observa que si un número decimal es dividido por `10`, obtenemos el residuo de este que será un valor de `0` a `9` (un dígito en base `10`).\n",
    "\n",
    "Por ejemplo, al obtener el residuo de dividir `1234` por `10` obtenedrás el valor de  `4`, que es el último dígito. Con la operación de módulo (`%`) de `10` se obtendrás el último dígito. Ahora, al aplicar la división entera, como en este caso `1234` por `10` se obtendrás `123`, es decir, has eliminado el último dígito. Entonces, si aplicas la operación de división de `10` varias veces iniciando en el número `1234`, se obtendría la secuencia: `123`, `12`, `1` y `0`. Entonces, puedes utilizar esta información para hacer tu implementación de la función (`int2String`) que recibe un entero y lo transforma en una secuencia de caracteres que representan el número específico.\n",
    "\n",
    "Recuerda al implementar la función `int2String`:\n",
    "\n",
    "* No utilices ciclos, únicamente recursividad.\n",
    "* Recuerda que vas a crear una cadena, utiliza las funciones de cadenas que te permiten unir cadenas como: `:+`, `+:` ó `:::`.\n",
    "* Observa que la aplicación de residuo te permitirá obtener los dígitos de forma inversa."
   ]
  },
  {
   "cell_type": "code",
   "execution_count": null,
   "metadata": {},
   "outputs": [],
   "source": [
    "def int2String(i:Int):List[Char] = {\n",
    "    if (i != 0) {\n",
    "        val d = i % 10\n",
    "        val c = (d + '0').toChar\n",
    "        int2String(i / 10) :+ c\n",
    "    }\n",
    "    else List()\n",
    "}"
   ]
  },
  {
   "cell_type": "markdown",
   "metadata": {},
   "source": [
    "Si el número es diferente de `0` procede a obtener el último dígito del número entero `i`, y lo conviertes en un caracter, y procede a invocar nuevamente a la función `int2String` eliminando así el último dígito del número `i` y obteniendo una lista, y luego añade el carácter encontrado al final de la lista. Si el entero es cero procedeces a retornar una lista vacía.\n",
    "\n",
    "### Ejercicio 1\n",
    "\n",
    "La función trabaja bien para valores enteros mayores que cero, modifica la función para que trabaje con el `0`, y con números negativos, en este caso debe añadir un `-`al principio de la cadena."
   ]
  },
  {
   "cell_type": "code",
   "execution_count": null,
   "metadata": {
    "solution2": "hidden",
    "solution2_first": true
   },
   "outputs": [],
   "source": [
    "def int2String(i:Int):List[Char] = ??? // Implementa el ejercicio 1"
   ]
  },
  {
   "cell_type": "code",
   "execution_count": null,
   "metadata": {
    "solution2": "hidden"
   },
   "outputs": [],
   "source": [
    "def int2String(i:Int):List[Char] = {\n",
    "    def iInt2String(i:Int):List[Char] = {\n",
    "        if (i != 0) {\n",
    "            val d = i % 10\n",
    "            val c = (d - '0').toChar\n",
    "            iInt2String(i / 10) :+ c\n",
    "        }\n",
    "        else List()\n",
    "    }\n",
    "    if (i == 0) List('0')\n",
    "    else if (i < 0) '-' +: iInt2String(abs(i))\n",
    "    else iInt2String(i)\n",
    "}"
   ]
  },
  {
   "cell_type": "markdown",
   "metadata": {
    "solution2": "hidden"
   },
   "source": [
    "#### Solución\n",
    "\n",
    "[Solución ejercicio 1](https://youtu.be/j3gLH3qxxyA?t=18)"
   ]
  },
  {
   "cell_type": "markdown",
   "metadata": {},
   "source": [
    "### Pregunta \n",
    "\n",
    "¿Qué pasa si la función original en la línea `int2String(i / 10) :+ c` se cambiara por `c +: int2String(i / 10)`, ¿Qué retornaría la función?\n",
    "\n",
    "### Ejercicio 2 \n",
    "\n",
    "Implemente una función llamada `int2StringBin` que recibe un entero y retorna una lista de caracteres cómo lo muestra la siguiente firma:"
   ]
  },
  {
   "cell_type": "markdown",
   "metadata": {},
   "source": [
    "***Nota:*** Ya no trabajamos en base 10 sino en base 2."
   ]
  },
  {
   "cell_type": "code",
   "execution_count": null,
   "metadata": {
    "solution2": "hidden",
    "solution2_first": true
   },
   "outputs": [],
   "source": [
    "def int2StringBin(i:Int):List[Char] = ???"
   ]
  },
  {
   "cell_type": "code",
   "execution_count": null,
   "metadata": {
    "solution2": "hidden"
   },
   "outputs": [],
   "source": [
    "def int2StringBin(i:Int) = {\n",
    "    def iInt2StringBin(i:Int):List[Char] = {\n",
    "        if (i != 0) {\n",
    "            val d = i % 2\n",
    "            val c = (d - '0').toChar\n",
    "            iInt2StringBin(i / 2) :+ c\n",
    "        }\n",
    "        else List()\n",
    "    }\n",
    "    if (i == 0) List('0')\n",
    "    else if (i < 0) '-' +: iInt2StringBin(abs(i))\n",
    "    else iInt2StringBin(i)\n",
    "}"
   ]
  },
  {
   "cell_type": "markdown",
   "metadata": {
    "solution2": "hidden"
   },
   "source": [
    "####  Solución\n",
    "\n",
    "[Solución ejercicio 2](https://youtu.be/j3gLH3qxxyA?t=136)"
   ]
  },
  {
   "cell_type": "markdown",
   "metadata": {},
   "source": [
    "### Ejercicio 3\n",
    "\n",
    "Si observas bien la funciones anteriores son idénticas, estas funciones podrían estar basadas en una función más genérica llamada `int2StringBase`. Implementa esa función:"
   ]
  },
  {
   "cell_type": "markdown",
   "metadata": {},
   "source": [
    "Donde b es el valor base, para decimales 10, para binarios 2, para octales 8, y así. "
   ]
  },
  {
   "cell_type": "code",
   "execution_count": null,
   "metadata": {
    "solution2": "hidden",
    "solution2_first": true
   },
   "outputs": [],
   "source": [
    "def int2StringBase(i:Int, b:Int):List[Char] = ???"
   ]
  },
  {
   "cell_type": "code",
   "execution_count": null,
   "metadata": {
    "solution2": "hidden"
   },
   "outputs": [],
   "source": [
    "def int2StringBase(i:Int, b:Int):List[Char] = {\n",
    "    def iInt2StringBase(i:Int):List[Char] = {\n",
    "        if (i != 0) {\n",
    "            val d = i % b\n",
    "            val c = (d - '0').toChar\n",
    "            iInt2StringBase(i / b) :+ c\n",
    "        }\n",
    "        else List()\n",
    "    }\n",
    "    if (i == 0) List('0')\n",
    "    else if (i < 0) '-' +: iInt2StringBase(abs(i))\n",
    "    else iInt2StringBase(i)\n",
    "}"
   ]
  },
  {
   "cell_type": "markdown",
   "metadata": {
    "solution2": "hidden"
   },
   "source": [
    "#### Solución\n",
    "\n",
    "[Solución ejercicio 3](https://youtu.be/j3gLH3qxxyA?t=186)"
   ]
  },
  {
   "cell_type": "markdown",
   "metadata": {},
   "source": [
    "### Ejercicio 4\n",
    "\n",
    "Utilizando la función `int2StringBase` reescribe la función `int2String` y `int2StringBin`"
   ]
  },
  {
   "cell_type": "code",
   "execution_count": null,
   "metadata": {
    "solution2": "hidden",
    "solution2_first": true
   },
   "outputs": [],
   "source": [
    "def int2String(i:Int):List[Char] = ??? // Utilizando la función int2StringBase\n",
    "def int2StringBin(i:Int):List[Char] = ??? // Utilizando la función int2StringBase"
   ]
  },
  {
   "cell_type": "code",
   "execution_count": null,
   "metadata": {
    "solution2": "hidden"
   },
   "outputs": [],
   "source": [
    "def int2String(i:Int):List[Char] = int2StringBase(i,10)\n",
    "def int2StringBin(i:Int):List[Char] = int2StringBase(i,2)"
   ]
  },
  {
   "cell_type": "markdown",
   "metadata": {
    "solution2": "hidden"
   },
   "source": [
    "#### Solución\n",
    "\n",
    "[Solución ejercicio 4](https://youtu.be/j3gLH3qxxyA?t=251)"
   ]
  },
  {
   "cell_type": "markdown",
   "metadata": {},
   "source": [
    "###  Ejercicio 5. Función de potencia\n",
    "\n",
    "Otra forma de computar la función de potencia es utlizando la siguiente definición:\n",
    "\n",
    "![Función de potencia](imagenes/def-potencia-2.png)\n",
    "\n",
    "Podes observar que esta es una definición que tiene un manejo diferente del caso base y también del caso recursivo. Implementa la función `potencia` utilizando el anterior algoritmo."
   ]
  },
  {
   "cell_type": "code",
   "execution_count": null,
   "metadata": {
    "solution2": "hidden",
    "solution2_first": true
   },
   "outputs": [],
   "source": [
    "def potencia(a:Double, n:Int) = ???"
   ]
  },
  {
   "cell_type": "code",
   "execution_count": null,
   "metadata": {
    "solution2": "hidden"
   },
   "outputs": [],
   "source": [
    "def potencia(a:Double, n:Int):Double = n match {\n",
    "    case 1 => a\n",
    "    case n if (n % 2 == 0) => {\n",
    "        val an2 = potencia(a,n/2)\n",
    "        an2 * an2\n",
    "    }\n",
    "    case n => a * potencia(a,n-1)\n",
    "\n",
    "}"
   ]
  },
  {
   "cell_type": "markdown",
   "metadata": {
    "solution2": "hidden"
   },
   "source": [
    "#### Solución\n",
    "\n",
    "[Solución ejercicio 5. Función de potencia](https://youtu.be/j3gLH3qxxyA?t=314)"
   ]
  }
 ],
 "metadata": {
  "kernelspec": {
   "display_name": "Scala",
   "language": "scala",
   "name": "scala"
  },
  "language_info": {
   "codemirror_mode": "text/x-scala",
   "file_extension": ".sc",
   "mimetype": "text/x-scala",
   "name": "scala",
   "nbconvert_exporter": "script",
   "version": "2.13.3"
  }
 },
 "nbformat": 4,
 "nbformat_minor": 4
}
