{
 "cells": [
  {
   "cell_type": "markdown",
   "metadata": {},
   "source": [
    "# Ejercicios\n",
    "\n",
    "## Conversión de `int2String`\n",
    "\n",
    "Vamos a implementar una función de conversión de un número entero de tipo `Int` a una lista de caracteres que contiene los mismo dígitos pero en formato de caracteres, llamada `int2String`.\n",
    "\n",
    "Para entender como se utiliza esta transformación debemos entender como se almacena los datos en la memoria del computador. En primer lugar, en la memoria del computador los datos son guardados como una secuencia de números binarios de un tamaño específico, en particular el tipo carácter (`Char`) es un tipo numérico, la letra `‘A’` es en realidad el valor numérico decimal `65`, la letra `‘B’` es el valor numérico `66` y así. Lo mismo pasa con los dígitos, el carácter `‘0’` es almacenado cómo el valor decimal `48` y el carácter `‘1’` es almacenado cómo el valor decimal `49`, y así. Entonces, si se tiene un valor número `5` (`d`), para obtener su correspondiente carácter se aplica la siguiente fórmula: `(d + ‘0’).toChar` para obtener su correspondiente carácter. La función inversa, convertir un carácter numérico (`c`) a su correspondiente valor decimal es: `c - ‘0’`. \n",
    "\n",
    "Bien, ahora tengamos en cuenta que un número decimal, puede ser transformado en una secuencia de carácteres. Lo primero es obtener un dígito de un número decial. Observemos la operación residuo (`%`), esta saca el residuo de dividir un número x por un n, y el residuo es siempre un valor que va de `0` a `n-1`. Ahora, observemos que si un número decimal es dividido por `10`, obtenemos el residuo de este que será un valor de `0` a `9` (un dígito en base `10`), entonces al obtener el residuo de dividir `1234` por `10` se obtiene `4`, que es el último dígito. Con la operación residuo (`%`) de `10` se obtiene el último dígito. Ahora, una división entera que hace, si dividimos `1234` por `10` se obtiene `123`, es decir que hemos eliminado el último dígito. Entonces, al aplicar la operación de división de `10` sobre el número `1234`, se obtendría la secuencia: `123`, `12`, `1` y `0`. Entonces, podemos utilizar esta información para implementar nuestra función (`int2String`) que recibe un entero y lo transforma en una secuencia de caracteres que representan el número específico.\n",
    "\n",
    "Recuerde al implementar la función `int2String`:\n",
    "* No utilizar ciclos, únicamente recursividad.\n",
    "* Recuerde que van a crear una cadena, utilicen las funciones de cadenas que perminte unir cadenas como: `:+`, `+:` ó `:::`.\n",
    "* Observe que se obtiene los dígitos en forma inversa."
   ]
  },
  {
   "cell_type": "code",
   "execution_count": null,
   "metadata": {},
   "outputs": [],
   "source": [
    "def int2String(i:Int):List[Char] = {\n",
    "    if (i != 0) {\n",
    "        val d = i % 10\n",
    "        val c = (d + '0').toChar\n",
    "        int2String(i / 10) :+ c\n",
    "    }\n",
    "    else List()\n",
    "}"
   ]
  },
  {
   "cell_type": "markdown",
   "metadata": {},
   "source": [
    "Si el número es diferente de `0` procede a obtener el último dígito del número entero `i`, y lo convierte en un caracteres, y procede a invocar nuevamente a la función `int2String` con eliminando el último dígito del número `i` y obteniendo una lista, y luego añade el carácter encontrado al final de la lista. Si el entero es cero proceder a retornar una lista vacía.\n",
    "\n",
    "### Ejercicio 1\n",
    "\n",
    "La función trabaja bien para valores enteros mayores que cero, modifique la función para que trabaje con el `0`, y números negativos, en este caso debe añadir un `-`al principio de la cadena."
   ]
  },
  {
   "cell_type": "code",
   "execution_count": null,
   "metadata": {},
   "outputs": [],
   "source": [
    "def int2String():List[Char] = ??? // Implementa el ejercicio 1"
   ]
  },
  {
   "cell_type": "markdown",
   "metadata": {},
   "source": [
    "### Pregunta \n",
    "\n",
    "¿Qué pasa si la función original en la línea `int2String(i / 10) :+ c` se cambiara por `c +: int2String(i / 10)`, ¿Qué retornaría la función?\n",
    "\n",
    "### Ejercicio 2 \n",
    "\n",
    "Implemente una función llamada `int2StringBin` que recibe un entero y retorna una lista de caracteres cómo lo muestra la siguiente firma:"
   ]
  },
  {
   "cell_type": "code",
   "execution_count": null,
   "metadata": {},
   "outputs": [],
   "source": [
    "def int2StringBin(i:Int):List[Char] = ???"
   ]
  },
  {
   "cell_type": "markdown",
   "metadata": {},
   "source": [
    "***Nota:*** Ya no trabajamos en base 10 sino en base 2.\n",
    "\n",
    "### Ejercicio 3\n",
    "\n",
    "Si observa bien la funciones anteriores son idénticas, estas funciones podrían estar basadas en una función más genérica llamada int2StringBase. Implemente es la firma de dicha función:"
   ]
  },
  {
   "cell_type": "code",
   "execution_count": null,
   "metadata": {},
   "outputs": [],
   "source": [
    "def int2StringBase(i:Int, b:Int):List[Char] = ???"
   ]
  },
  {
   "cell_type": "markdown",
   "metadata": {},
   "source": [
    "Donde b es el valor base, para decimales 10, para binarios 2, para octales 8, y así. \n",
    "\n",
    "### Ejercicio 4\n",
    "\n",
    "Utilizando la función `int2StringBase` reescriba la función `int2String` y `int2StringBin`"
   ]
  },
  {
   "cell_type": "code",
   "execution_count": null,
   "metadata": {},
   "outputs": [],
   "source": [
    "def int2String():List[Char] = ??? // Utilizando la función int2StringBase\n",
    "def int2StringBin():List[Char] = ??? // Utilizando la función int2StringBase"
   ]
  },
  {
   "cell_type": "markdown",
   "metadata": {},
   "source": [
    "### Función de potencia\n",
    "\n",
    "Otra forma de computar la función de potencia es utlizando la siguiente definición:\n",
    "\n",
    "![Función de potencia](imagenes/def-potencia-2.png)\n",
    "\n",
    "Podemos observar que es una definición que tiene un manejo diferente del caso base y también del caso recursivo. Implemente la función \n",
    "`potencia` utilizando este algoritmo."
   ]
  },
  {
   "cell_type": "code",
   "execution_count": null,
   "metadata": {},
   "outputs": [],
   "source": [
    "def potencia(a:Double, n:Int) = ???"
   ]
  }
 ],
 "metadata": {
  "kernelspec": {
   "display_name": "Scala",
   "language": "scala",
   "name": "scala"
  },
  "language_info": {
   "codemirror_mode": "text/x-scala",
   "file_extension": ".sc",
   "mimetype": "text/x-scala",
   "name": "scala",
   "nbconvert_exporter": "script",
   "version": "2.13.3"
  }
 },
 "nbformat": 4,
 "nbformat_minor": 4
}
