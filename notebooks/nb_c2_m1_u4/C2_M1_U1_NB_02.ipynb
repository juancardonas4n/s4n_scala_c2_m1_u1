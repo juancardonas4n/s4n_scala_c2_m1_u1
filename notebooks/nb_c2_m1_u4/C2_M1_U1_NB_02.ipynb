{
 "cells": [
  {
   "cell_type": "markdown",
   "metadata": {},
   "source": [
    "# Ejemplo de diseño recursivo\n",
    "\n",
    "## Algoritmo de raíz cuadrada\n",
    "\n",
    "Vamos a implementar una versión del algoritmo de raíz cuadrada pero esta vez utilizando un algortimo que tiene mejor precisión al visto anteriormente. \n",
    "\n",
    "En la siguiente figura se encuentra la definición del algoritmo que queremos implementar.\n",
    "\n",
    "![Algoritmo babilonico](./imagenes/algoritmo_babilonico_raiz_cuadrada.png)\n",
    "\n",
    "En programación funcional no existen los ciclos, entonces cómo se implementará.\n",
    "\n",
    "En primer lugar creamos una función llamada raíz que tiene la siguiente firma: "
   ]
  },
  {
   "cell_type": "code",
   "execution_count": null,
   "metadata": {},
   "outputs": [],
   "source": [
    "def raiz(x:Double):Double = ???"
   ]
  },
  {
   "cell_type": "markdown",
   "metadata": {},
   "source": [
    "Esta será nuestra función principal, pero tenemos que implementar el ciclo dentro de nuestra función, ¿Pero cómo?\n",
    "\n",
    "Es aquí donde vamos a utilizar el concepto de funciones inmersas. Estas son un mecanismo que nos ofrece Scala, similar a las **Inner classes** en Java, podemos definir funciones dentro nuestras funciones, estas funciones se llamarán funciones inmersas. En el caso particular vamos a declarar una función inmersa llamada `iRaiz`, esta función se encargará de representar el ciclo interno que se lleva a cabo. Debemos observar que este ciclo tiene tres variables: `t`, `r` y `x`. En teoría esta función, `iRaiz` debería llevar las tres variables, pero teniendo en cuenta que las funciones inmersas tienen acceso al contexto donde fueron definidas, es decir, los parámetros de la función más externa, no es necesario pasar como parámetro a `x`(**Nota:** Se podría hacer y no habría problema.). Declaramos la firma interna de la siguiente forma:\n",
    "\n",
    "```{.scala}\n",
    "def raiz(x:Double):Double = {\n",
    "   def iRaiz(r:Double, t:Double):Double = ???\n",
    "   ...\n",
    "}\n",
    "```\n",
    "\n",
    "La idea de la función inmersa es representar el ciclo, pero en este caso lo haremos cómo una función recursiva. El caso base será cuando `t == r`, y retornamos a `r`. Y el caso recursivo es volver a llamar la función `iRaiz` pasando como parámetros el cómputo de `r` en su correspondiente parámetro y `t`con su cómputo. La primera vez se invoca la función, con los valores iniciales de las variables del ciclo.\n",
    "\n",
    "La siguiente es la implementación de la función:"
   ]
  },
  {
   "cell_type": "code",
   "execution_count": 1,
   "metadata": {},
   "outputs": [
    {
     "data": {
      "text/plain": [
       "defined \u001b[32mfunction\u001b[39m \u001b[36mraiz\u001b[39m"
      ]
     },
     "execution_count": 1,
     "metadata": {},
     "output_type": "execute_result"
    }
   ],
   "source": [
    "def raiz(x:Double):Double = {\n",
    "    def iRaiz(r:Double, t:Double):Double = r match {\n",
    "        case r if (r == t) => r\n",
    "        case _             => iRaiz(((x/r) + r)/2, r)\n",
    "    }\n",
    "    iRaiz(x,0)\n",
    "}"
   ]
  },
  {
   "cell_type": "markdown",
   "metadata": {},
   "source": [
    "Observemos un detalle con la coincidencia de patrones en Scala. El primero es el primer `case` aunque el valor es una variable, lo que significa que habría coincidencia inmediata, se tiene una construcción con `if (r == t)` esto verifica que el valor de la variable `r`se igual al `t`, si esto es cierto se retorna el valor de `r`, en caso contrario continua con la siguiente expresión.\n",
    "\n",
    "El segundo `case` tiene el comodín: `_` lo que significa que siempre va a coincidir, esta parte vuelve a invocar, es decir llamar la función recursiva: `iRaiz` pero con los valores de los parámetros vueltos a calcular.\n",
    "\n",
    "Ahora, ejecute las siguientes instrucciones y mire que esta nueva versión es más exacta que la anterior."
   ]
  },
  {
   "cell_type": "code",
   "execution_count": 2,
   "metadata": {},
   "outputs": [
    {
     "data": {
      "text/plain": [
       "\u001b[36mres1_0\u001b[39m: \u001b[32mDouble\u001b[39m = \u001b[32m3.0\u001b[39m\n",
       "\u001b[36mres1_1\u001b[39m: \u001b[32mDouble\u001b[39m = \u001b[32m3.162277660168379\u001b[39m\n",
       "\u001b[36mres1_2\u001b[39m: \u001b[32mDouble\u001b[39m = \u001b[32m4.0\u001b[39m\n",
       "\u001b[36mres1_3\u001b[39m: \u001b[32mDouble\u001b[39m = \u001b[32m5.0\u001b[39m\n",
       "\u001b[36mres1_4\u001b[39m: \u001b[32mDouble\u001b[39m = \u001b[32m5.0990195135927845\u001b[39m"
      ]
     },
     "execution_count": 2,
     "metadata": {},
     "output_type": "execute_result"
    }
   ],
   "source": [
    "raiz(9)\n",
    "raiz(10)\n",
    "raiz(16)\n",
    "raiz(25)\n",
    "raiz(26)"
   ]
  },
  {
   "cell_type": "code",
   "execution_count": null,
   "metadata": {},
   "outputs": [],
   "source": []
  }
 ],
 "metadata": {
  "kernelspec": {
   "display_name": "Scala",
   "language": "scala",
   "name": "scala"
  },
  "language_info": {
   "codemirror_mode": "text/x-scala",
   "file_extension": ".sc",
   "mimetype": "text/x-scala",
   "name": "scala",
   "nbconvert_exporter": "script",
   "version": "2.13.3"
  }
 },
 "nbformat": 4,
 "nbformat_minor": 4
}
