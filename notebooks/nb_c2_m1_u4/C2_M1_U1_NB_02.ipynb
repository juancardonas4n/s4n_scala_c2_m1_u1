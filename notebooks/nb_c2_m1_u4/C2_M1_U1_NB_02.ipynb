{
 "cells": [
  {
   "cell_type": "markdown",
   "metadata": {},
   "source": [
    "# Ejemplo de diseño recursivo\n",
    "\n",
    "## Algoritmo de raíz cuadrada\n",
    "\n",
    "Implementemos una versión del algoritmo de raíz cuadrada, pero lo vamos hacer con una mayor precisión. \n",
    "\n",
    "En la siguiente figura, se encuentra la definición del algoritmo que queremos implementar (*llamado [algoritmo Babilónico](https://es.wikipedia.org/wiki/C%C3%A1lculo_de_la_ra%C3%ADz_cuadrada#:~:text=El%20algoritmo%20babil%C3%B3nico%E2%80%8B%20se,la%20ra%C3%ADz%20cuadrada%20del%20%C3%A1rea.&text=Para%20calcular%20una%20ra%C3%ADz%2C%20dibuje,lo%20menos%20aproximar%20un%20cuadrado.)*)\n",
    "\n",
    "![Algoritmo babilonico](./imagenes/algoritmo_babilonico_raiz_cuadrada.png)\n",
    "\n",
    "Cómo ya sabes, en la programación funcional no se utilizan los ciclos, preferimos la recursividad. Para ello, verás una forma de cómo lograr implementar ciclos a través de la recursividad.\n",
    "\n",
    "En primer lugar, crearás una función llamada raíz que tiene la siguiente firma: "
   ]
  },
  {
   "cell_type": "code",
   "execution_count": null,
   "metadata": {},
   "outputs": [],
   "source": [
    "def raiz(x:Double):Double = ???"
   ]
  },
  {
   "cell_type": "markdown",
   "metadata": {},
   "source": [
    "Esta va a ser nuestra función principal, pero tenemos que implementar el ciclo dentro de nuestra función. ¿Dé qué forma se implementará dicho ciclo?\n",
    "\n",
    "Aquí es donde utilizarás el concepto de funciones inmersas. Recuerda, que estas son un mecanismo que nos ofrece muchos lenguajes de programación (incluido Scala), son similares a las **Inner classes** en Java, y en este caso podrás definir funciones dentro nuestras funciones (funciones inmersas).\n",
    "\n",
    "En el caso particular, declararás una función inmersa llamada `iRaiz`, esta función se encargará de representar el ciclo interno que se lleva a cabo. Debes observar, que este ciclo tiene tres variables: `t`, `r` y `x`. En teoría, la función `iRaiz` deberá llevar las tres variables, pero ten en cuenta que las funciones inmersas tienen acceso al contexto donde fueron definidas, es decir, los parámetros de la función más externa, por lo tanto no es necesario pasar como parámetro a `x`(**Nota:** Se podría hacer y no habría problema.). \n",
    "\n",
    "Declarás la firma interna de la función de la siguiente forma:\n",
    "\n",
    "```{.scala}\n",
    "def raiz(x:Double):Double = {\n",
    "   def iRaiz(r:Double, t:Double):Double = ???\n",
    "   ...\n",
    "}\n",
    "```\n",
    "\n",
    "La función inmersa, te va representar el ciclo, pero para hacer algo análogo al ciclo, lo implementarás cómo una función recursiva. El caso base será cuando `t == r`, y retornarás a `r` (o a `t`). Y el caso recursivo, es volver a llamar la función `iRaiz`, donde pasarás cómo parámetros el cómputo de `r` en su correspondiente parámetro y `t`con su cómputo.\n",
    "\n",
    "La primera vez se invoca la función, con los valores iniciales de las variables del ciclo.\n",
    "\n",
    "La siguiente es la implementación de la función:"
   ]
  },
  {
   "cell_type": "code",
   "execution_count": null,
   "metadata": {},
   "outputs": [],
   "source": [
    "def raiz(x:Double):Double = {\n",
    "    def iRaiz(r:Double, t:Double):Double = r match {\n",
    "        case r if (r == t) => r\n",
    "        case _             => iRaiz(((x/r) + r)/2, r)\n",
    "    }\n",
    "    iRaiz(x,0)\n",
    "}"
   ]
  },
  {
   "cell_type": "markdown",
   "metadata": {},
   "source": [
    "Observa un detalle con la coincidencia de patrones en Scala. \n",
    "\n",
    "Mira el primer `case`, aunque el valor es una variable, esto significaría que habría coincidencia inmediata, se tiene una construcción con `if (r == t)`, esto verifica que el valor de la variable `r` se igual a `t`, si esto es cierto se retorna el valor de `r`, en caso contrario continúa con la siguiente expresión.\n",
    "\n",
    "Mira ahora el segundo `case` que tiene como comodín: `_`. Lo que significa que siempre va a coincidir, esta parte vuelve a invocar, es decir llamar la función recursiva: `iRaiz` pero con los valores de los parámetros vueltos a calcular.\n",
    "\n",
    "Ahora, ejecute las siguientes instrucciones y mire que esta nueva versión es más exacta que la anterior."
   ]
  },
  {
   "cell_type": "code",
   "execution_count": null,
   "metadata": {},
   "outputs": [],
   "source": [
    "raiz(9)\n",
    "raiz(10)\n",
    "raiz(16)\n",
    "raiz(25)\n",
    "raiz(26)"
   ]
  },
  {
   "cell_type": "markdown",
   "metadata": {},
   "source": [
    "## Ejercicios\n",
    "\n",
    "### Ejercicio 1. \n",
    "\n",
    "Ahora, reescribe la función `expo` del vídeo anterior de forma que la variable x, implementando para ello las funciones `potencia` y `factorial` de forma recursiva. Recuerda que la función `expo` utiliza una función inmersa `iExpo`. "
   ]
  },
  {
   "cell_type": "code",
   "execution_count": null,
   "metadata": {},
   "outputs": [],
   "source": [
    "def potencia(x:Double,n:Int):Double = ???\n",
    "def factorial(n:Int):Int = ???\n",
    "\n",
    "def expo(a:Double):Double = ???"
   ]
  },
  {
   "cell_type": "markdown",
   "metadata": {},
   "source": [
    "### Ejercicio 2\n",
    "\n",
    "Observa bien la implementación de `expo` y de su función inmersa `iExpo` que has reescrito. Si observas bien, te dará cuenta que estas realizando en cada operación la invocación una y otra de la función de `potencia` y `factorial`, y esa invocación internamente vuelve hacer las mismas invocaciones, una y otra vez. \n",
    "\n"
   ]
  },
  {
   "cell_type": "code",
   "execution_count": 1,
   "metadata": {},
   "outputs": [
    {
     "data": {
      "text/plain": [
       "defined \u001b[32mfunction\u001b[39m \u001b[36mexpo\u001b[39m"
      ]
     },
     "execution_count": 1,
     "metadata": {},
     "output_type": "execute_result"
    }
   ],
   "source": [
    "def expo(a:Double):Double = ???"
   ]
  },
  {
   "cell_type": "code",
   "execution_count": null,
   "metadata": {},
   "outputs": [],
   "source": []
  }
 ],
 "metadata": {
  "kernelspec": {
   "display_name": "Scala",
   "language": "scala",
   "name": "scala"
  },
  "language_info": {
   "codemirror_mode": "text/x-scala",
   "file_extension": ".sc",
   "mimetype": "text/x-scala",
   "name": "scala",
   "nbconvert_exporter": "script",
   "version": "2.13.3"
  }
 },
 "nbformat": 4,
 "nbformat_minor": 4
}
