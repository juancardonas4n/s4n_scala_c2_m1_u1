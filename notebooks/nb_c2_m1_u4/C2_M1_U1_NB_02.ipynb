{
 "cells": [
  {
   "cell_type": "markdown",
   "metadata": {},
   "source": [
    "# Ejemplo de diseño recursivo\n",
    "\n",
    "## Algoritmo de raíz cuadrada\n",
    "\n",
    "Vamos a implementar una versión del algoritmo de raíz cuadrada pero esta vez utilizando un algortimo que tiene mejor precisión al visto anteriormente. \n",
    "\n",
    "En la siguiente figura se encuentra la definición del algoritmo que queremos implementar.\n",
    "\n",
    "![Algoritmo babilonico](./imagenes/algoritmo_babilonico_raiz_cuadrada.png)\n",
    "\n",
    "En programación funcional no existen los ciclos, entonces cómo se implementará.\n",
    "\n",
    "En primer lugar creamos una función llamada raíz que tiene la siguiente firma: "
   ]
  },
  {
   "cell_type": "code",
   "execution_count": null,
   "metadata": {},
   "outputs": [],
   "source": [
    "def raiz(x:Double):Double = ???"
   ]
  },
  {
   "cell_type": "markdown",
   "metadata": {},
   "source": [
    "Esta será nuestra función principal, pero tenemos que implementar el ciclo dentro de nuestra función, ¿Pero cómo?\n",
    "\n",
    "Es aquí donde vamos a utilizar el concepto de funciones inmersas. Estas son un mecanismo que nos ofrece Scala, similar a las **Inner classes** en Java, podemos definir funciones dentro nuestras funciones, estas funciones se llamarán funciones inmersas. En el caso particular vamos a declarar una función inmersa llamada `iRaiz`, esta función se encargará de representar el ciclo interno que se lleva a cabo. Debemos observar que este ciclo tiene tres variables: `t`, `r` y `x`. En teoría esta función, `iRaiz` debería llevar las tres variables, pero teniendo en cuenta que las funciones inmersas tienen acceso al contexto donde fueron definidas, es decir, los parámetros de la función más externa, no es necesario pasar como parámetro a `x`(**Nota:** Se podría hacer y no habría problema.). Declaramos la firma interna de la siguiente forma:\n",
    "\n",
    "```{.scala}\n",
    "def raiz(x:Double):Double = {\n",
    "   def iRaiz(r:Double, t:Double):Double = ???\n",
    "   ...\n",
    "}\n",
    "```\n",
    "\n",
    "La idea de la función inmersa es representar el ciclo, pero en este caso lo haremos cómo una función recursiva. El caso base será cuando `t == r`, y retornamos a `r`. Y el caso recursivo es volver a llamar la función `iRaiz` pasando como parámetros el cómputo de `r` en su correspondiente parámetro y `t`con su cómputo. La primera vez se invoca la función, con los valores iniciales de las variables del ciclo.\n",
    "\n",
    "La siguiente es la implementación de la función:"
   ]
  },
  {
   "cell_type": "code",
   "execution_count": null,
   "metadata": {},
   "outputs": [],
   "source": [
    "def raiz(x:Double):Double = {\n",
    "    def iRaiz(r:Double, t:Double):Double = r match {\n",
    "        case r if (r == t) => r\n",
    "        case _             => iRaiz(((x/r) + r)/2, r)\n",
    "    }\n",
    "    iRaiz(x,0)\n",
    "}"
   ]
  },
  {
   "cell_type": "markdown",
   "metadata": {},
   "source": [
    "Observemos un detalle con la coincidencia de patrones en Scala. El primero es el primer `case` aunque el valor es una variable, lo que significa que habría coincidencia inmediata, se tiene una construcción con `if (r == t)` esto verifica que el valor de la variable `r`se igual al `t`, si esto es cierto se retorna el valor de `r`, en caso contrario continua con la siguiente expresión.\n",
    "\n",
    "El segundo `case` tiene el comodín: `_` lo que significa que siempre va a coincidir, esta parte vuelve a invocar, es decir llamar la función recursiva: `iRaiz` pero con los valores de los parámetros vueltos a calcular.\n",
    "\n",
    "Ahora, ejecute las siguientes instrucciones y mire que esta nueva versión es más exacta que la anterior."
   ]
  },
  {
   "cell_type": "code",
   "execution_count": null,
   "metadata": {},
   "outputs": [],
   "source": [
    "raiz(9)\n",
    "raiz(10)\n",
    "raiz(16)\n",
    "raiz(25)\n",
    "raiz(26)"
   ]
  },
  {
   "cell_type": "markdown",
   "metadata": {},
   "source": [
    "## Ejercicios\n",
    "\n",
    "### Ejercicio 1. \n",
    "\n",
    "Ahora, reescriba la función `expo` del vídeo anterior de forma que la variable x en `iExpo` definida en dicho vídeo."
   ]
  },
  {
   "cell_type": "code",
   "execution_count": null,
   "metadata": {},
   "outputs": [],
   "source": [
    "def potencia(x:Double,n:Int):Double = ???\n",
    "def factorial(n:Int):Int = ???\n",
    "\n",
    "def expo(a:Double):Double = ???"
   ]
  },
  {
   "cell_type": "markdown",
   "metadata": {},
   "source": [
    "### Ejercicio 2\n",
    "\n",
    "Mirando nuevamente la función `expo` que hemos reescrito, la función en cada iteracción partes que ya se habían calculado. Si observa bien, el cálculo, en cada término se va calculando parte de la potencia y del factorial, así que el siguiente término puede ser computado en con los datos del actual. Reescriba la función expo y su función inmersa, iExpo de forma que esta no tenga que invocar a potencia y a factorial, sino que cada cálculo del término tenga parte del valor. Reescriba la función `expo` de forma que se envie la recomputación."
   ]
  },
  {
   "cell_type": "code",
   "execution_count": null,
   "metadata": {},
   "outputs": [],
   "source": [
    "def expo(a:Double):Double = ???"
   ]
  }
 ],
 "metadata": {
  "kernelspec": {
   "display_name": "Scala",
   "language": "scala",
   "name": "scala"
  },
  "language_info": {
   "codemirror_mode": "text/x-scala",
   "file_extension": ".sc",
   "mimetype": "text/x-scala",
   "name": "scala",
   "nbconvert_exporter": "script",
   "version": "2.13.3"
  }
 },
 "nbformat": 4,
 "nbformat_minor": 4
}
