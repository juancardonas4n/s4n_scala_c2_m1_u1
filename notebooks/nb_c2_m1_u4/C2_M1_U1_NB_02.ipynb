{
 "cells": [
  {
   "cell_type": "markdown",
   "metadata": {},
   "source": [
    "# Ejemplo de diseño recursivo\n",
    "\n",
    "## Algoritmo de raíz cuadrada\n",
    "\n",
    "Vamos a implementar una versión del algoritmo de raíz cuadrada pero esta vez utilizando un algortimo que tiene mejor precisión al visto anteriormente. \n",
    "\n",
    "En la siguiente figura se encuentra la definición del algoritmo que queremos implementar.\n",
    "\n",
    "![Algoritmo babilonico](./imagenes/algoritmo_babilonico_raiz_cuadrada.png)\n",
    "\n",
    "En programación funcional no existen los ciclos, entonces cómo se implementará.\n",
    "\n",
    "En primer lugar creamos una función llamada raíz que tiene la siguiente firma: "
   ]
  },
  {
   "cell_type": "code",
   "execution_count": null,
   "metadata": {},
   "outputs": [],
   "source": [
    "def raiz(x:Double):Double = ???"
   ]
  },
  {
   "cell_type": "markdown",
   "metadata": {},
   "source": [
    "Esta será nuestra función principal, pero tenemos que implementar el ciclo dentro de nuestra función, ¿Pero cómo?\n",
    "\n",
    "Es aquí donde vamos a utilizar el concepto de funciones inmersas. Estas son un mecanismo que nos ofrece Scala, similar a las **Inner classes** en Java, podemos definir funciones dentro nuestras funciones, estas funciones se llamarán funciones inmersas. En el caso particular vamos a declarar una función inmersa llamada `iRaiz`, esta función se encargará de representar el ciclo interno que se lleva a cabo. Debemos observar que este ciclo tiene tres variables: `t`, `r` y `x`. En teoría esta función, `iRaiz`."
   ]
  }
 ],
 "metadata": {
  "kernelspec": {
   "display_name": "Scala",
   "language": "scala",
   "name": "scala"
  },
  "language_info": {
   "codemirror_mode": "text/x-scala",
   "file_extension": ".sc",
   "mimetype": "text/x-scala",
   "name": "scala",
   "nbconvert_exporter": "script",
   "version": "2.13.3"
  }
 },
 "nbformat": 4,
 "nbformat_minor": 4
}
