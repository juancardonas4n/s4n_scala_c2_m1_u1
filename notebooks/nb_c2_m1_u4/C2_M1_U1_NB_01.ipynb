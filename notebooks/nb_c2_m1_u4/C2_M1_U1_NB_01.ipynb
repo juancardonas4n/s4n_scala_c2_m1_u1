{
 "cells": [
  {
   "cell_type": "markdown",
   "metadata": {},
   "source": [
    "# Ejemplo de diseño interactivo y diseño recursivo\n",
    "\n",
    "## Algoritmo factorial\n",
    "\n",
    "El algoritmo factorial es un algoritmo que permite calcular de un valor entero su valor factorial que esta definido de forma formal de la siguiente manera.\n",
    "![factorial](./imagenes/factorial_def.png)\n",
    "Esta definición formal puede ser implementada de dos formas, en primer lugar utilizando una versión interactiva o una versión recursiva. Comencemos por la primera.\n",
    "\n",
    "### Algoritmo factorial diseño interactivo\n",
    "\n",
    "En el diseño interactivo, partimos de una observación de cuantas veces debemos lleva a cabo una operación que ayude a computar el valor, para ello nos fundamentaremos en el ciclo, este debe itera un operación para poder lograr obtener el valor del factorial. \n",
    "\n",
    "```{.java}\n",
    "static int factorial(int n) {\n",
    "   for (int i = n; i > 0; i--)\n",
    "       ...\n",
    "}\n",
    "```\n",
    "\n",
    "En el código anterior observamos que la interacción se realiza llevando a cabo la operación en un ciclo al menos `n`veces. Ahora, nos queda que operación debemos lleva a cabo. Si observamos, bien la definición, esta operación ira acumulando un resultado (`resultado`) que iremos computando con el valor de `n`, luego lo multiplicamos con el valor acumulado. **Nota:** Las operaciones como la multiplicación y la suma tienen unos valores llamados identidades que permiten cualquier valor operado por este se obtiene el mismo, valor. En el caso de la multiplicación, este valor es el `1`, por lo tanto nuestro resultado inicia con el valor de `1`.\n",
    "\n",
    "Entonces en cada interacción el ciclo multiplicará el valor del resultado `resultado` por el valor actual de la variable `i` que tendrá en cada ciclo el valor de `n`, luego de `n - 1` y así hasta llegar al final que será el valor 1. **Nota:** El ciclo se detiene cuando el valor de `i` es igual a `0`, pero este valor no es tenido en cuenta para el computo final.\n",
    "\n",
    "Entonces nuestra función queda de la siguente forma:\n",
    "\n",
    "```{.java}\n",
    "static int factorial(int n) {\n",
    "   int resultado = 1;\n",
    "   for (int i = n; i > 0; i--) \n",
    "      resultado = resultado * i;\n",
    "   return resultado;\n",
    "}\n",
    "```\n",
    "\n",
    "Podemos observar la implementación del factorial utilizando un diseño interactivo. Este algoritmo no tiene nada que ver con la definición que encontramos al principio.\n",
    "\n",
    "### Algoritmo factorial diseño recursivo\n",
    "\n",
    "Para lograr implementar el algoritmo de forma recursiva tenemos que mirar el algoritmo factorial de otra forma:\n",
    "\n",
    "Miremos, el siguiente figura:\n",
    "\n",
    "![factorial paso a paso](./imagenes/factorial_def_rec_0.png)\n",
    "\n",
    "Observe, que en cada línea estamos computado el factorial inicialmente de `0`, luego el factorial de `1`, y así. Para finalmente tener que cuando computamos el factorial de `n`. Pero podemos observar la anterior definición de otra forma, observe que el factorial de `n=1`se puede computar con `1 * factorial(0)`, y continuar así hasta obtener el siguiente resultado:\n",
    "\n",
    "![factorial](./imagenes/factorial_def_rec_1.png)\n",
    "\n",
    "Ahora podemos tener otra definición de recursividad que nos resume la siguiente definición:\n",
    "\n",
    "![factorial](./imagenes/factorial_def_rec.png)\n",
    "\n",
    "Esto es un diseño recursivo, donde observamos dos casos.\n",
    "\n",
    "1. Caso recursivo, que comienza con `n`, y que computa el valor del factorial de n, pero deja pendiente de forma recursiva el cómputo a través de la invocación recursiva de la función.\n",
    "2. Caso base que será el valor de `0`, que nos sirve como mecanismo de parada.\n",
    "\n",
    "Miremos ahora su implementación en Scala."
   ]
  },
  {
   "cell_type": "code",
   "execution_count": null,
   "metadata": {},
   "outputs": [],
   "source": [
    "def factorial(n:Int):Int = n match {\n",
    "    case 0 => 1\n",
    "    case n => n * factorial(n - 1)\n",
    "}"
   ]
  },
  {
   "cell_type": "markdown",
   "metadata": {},
   "source": [
    "Se puede observar que esta definición es muy similiar a la definición que hicimos del diseño recursivo, lo que nos permite concluir que los lenguajes funcionales se acercan a las definiciones matemáticas. Esta definición, introducimos un elemento nuevo en la programación en Scala que es la coincidencia de patrones (***Pattern matching***). Este constructor comienza con la variable que se quiere verificar y tiene la siguiente estructura\n",
    "\n",
    "```{.scala}\n",
    "<varMatch> match {\n",
    "case Literal1 => exprLiteral1\n",
    "case Literal2 => exprLiteral2\n",
    "...\n",
    "case LiteralN => exprLiteralN\n",
    "}\n",
    "```\n",
    "\n",
    "Donde `<varMatch>` es una variable cualquiera que queremos verificar su valor y esto lo haremos mirando los posibles valores del tipo que puede tener esa variable. En este caso, el valor puede ser un literal (una constante de dicho valor), puede ser varios valores literales diferentes, si el `<varMatch>` coincide con el literal (`Literal1`) evalúa la expresión (`exprLiteral1`), sino verifica el segundo literal (`Literal2`), si este es el caso, evalúa la expresión (`exprLiteral2`) y así hasta encontrar el literal correspondiente, evalúara la expresión correspondiente. Si por alguna razón, no se encuentra un valor literal correspondiente, se genera una excepción (`scala.MatchError`). Generalmente, el compilador nos hará una advertencia (`warning: match may not be exhaustive`), indicando que nuestra función no cubre todos los casos. \n",
    "\n",
    "Scala, permite dos valores en lo literales: una variable, que siempre coincidirá y evalúara la correspondiente expresión, con el detalle que esta variable puede ser utilizada dentro expresión que ser evaluará. Si la expresión no es necesaria, pero se quiere que siempre coincida, se puede utilizar el comodín (`_`), esto hace que siempre coincida.\n",
    "\n",
    "## Algoritmo de suma\n",
    "\n",
    "Vamos a implementar una función suma de dos enteros, pero en esta situación no vamos a utilizar la definición usual como la que podriamos hacer como en la siguiente función:"
   ]
  },
  {
   "cell_type": "code",
   "execution_count": 2,
   "metadata": {},
   "outputs": [
    {
     "data": {
      "text/plain": [
       "defined \u001b[32mfunction\u001b[39m \u001b[36msuma\u001b[39m"
      ]
     },
     "execution_count": 2,
     "metadata": {},
     "output_type": "execute_result"
    }
   ],
   "source": [
    "def suma(a:Int, b:Int) = a + b"
   ]
  },
  {
   "cell_type": "markdown",
   "metadata": {},
   "source": [
    "Vamos a definir una función llamada `sumaRec` (***que solamente aceptará entero positivos***), que aunque no es la forma usual nos permite enfocarnos sobre el diseño recursivo. la función `sumaRec` tiene la siguiente firma:"
   ]
  },
  {
   "cell_type": "code",
   "execution_count": null,
   "metadata": {},
   "outputs": [],
   "source": [
    "def sumaRec(a:Int, b:Int):Int = ???"
   ]
  },
  {
   "cell_type": "markdown",
   "metadata": {},
   "source": [
    "Observe en primer lugar que nuestra función `sumaRec` indica el tipo de retorno, esto es ***fundamental*** en la funciones recursivas.\n",
    "Vamos a implementar la función de `sumaRec` a través de dos operaciones internas: `incr` y `decr`, donde la primera incrementa un entero en uno y la segunda lo decrementa en uno. "
   ]
  },
  {
   "cell_type": "code",
   "execution_count": 3,
   "metadata": {},
   "outputs": [
    {
     "data": {
      "text/plain": [
       "defined \u001b[32mfunction\u001b[39m \u001b[36mincr\u001b[39m\n",
       "defined \u001b[32mfunction\u001b[39m \u001b[36mdecr\u001b[39m"
      ]
     },
     "execution_count": 3,
     "metadata": {},
     "output_type": "execute_result"
    }
   ],
   "source": [
    "def incr(n:Int) = n + 1\n",
    "def decr(n:Int) = n - 1"
   ]
  },
  {
   "cell_type": "markdown",
   "metadata": {},
   "source": [
    "La definición de `sumaRec` se hace de la siguiente forma:\n",
    "![sumaRec](./imagenes/sumarec_def.png)\n",
    "\n",
    "A continuación está la firma de la función `sumaRec` implemente la función adicionado un cuerpo de acuerdo a la definición anterior:"
   ]
  },
  {
   "cell_type": "code",
   "execution_count": 4,
   "metadata": {},
   "outputs": [
    {
     "data": {
      "text/plain": [
       "defined \u001b[32mfunction\u001b[39m \u001b[36msumaRec\u001b[39m"
      ]
     },
     "execution_count": 4,
     "metadata": {},
     "output_type": "execute_result"
    }
   ],
   "source": [
    "def sumaRec(a:Int,b:Int):Int = ???"
   ]
  },
  {
   "cell_type": "markdown",
   "metadata": {},
   "source": [
    "**Pista:** Sustituya la anterior función con este posible cuerpo y completelo:\n",
    "\n",
    "```{.scala}\n",
    "def sumaRec(a:Int,b:Int):Int = (a,b) match {\n",
    "   case (...,...) => ....\n",
    "}\n",
    "```"
   ]
  }
 ],
 "metadata": {
  "kernelspec": {
   "display_name": "Scala",
   "language": "scala",
   "name": "scala"
  },
  "language_info": {
   "codemirror_mode": "text/x-scala",
   "file_extension": ".sc",
   "mimetype": "text/x-scala",
   "name": "scala",
   "nbconvert_exporter": "script",
   "version": "2.13.3"
  }
 },
 "nbformat": 4,
 "nbformat_minor": 4
}
