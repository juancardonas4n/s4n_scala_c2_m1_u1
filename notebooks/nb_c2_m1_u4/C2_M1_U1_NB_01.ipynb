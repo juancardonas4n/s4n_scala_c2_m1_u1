{
 "cells": [
  {
   "cell_type": "markdown",
   "metadata": {},
   "source": [
    "# Ejemplo de diseño interactivo y diseño recursivo\n",
    "\n",
    "## Algoritmo factorial\n",
    "\n",
    "Miremos, la siguiente figura:\n",
    "\n",
    "![factorial paso a paso](./imagenes/factorial_def_rec_0.png)\n",
    "\n",
    "Observe que, en cada línea estamos computado el factorial inicialmente de `0`, luego el factorial de `1`, y así. Finalmente, computamos el factorial para `n`. Observe que el factorial de `n=1`se puede computar con `1 * factorial(0)`, y continuar así hasta obtener el siguiente resultado:\n",
    "\n",
    "![factorial](./imagenes/factorial_def_rec_1.png)\n",
    "\n",
    "Ahora, tenemos una definición recursiva de factorial:\n",
    "\n",
    "![factorial](./imagenes/factorial_def_rec.png)\n",
    "\n",
    "Esta definición recursiva comprende dos casos:\n",
    "\n",
    "1. El caso recursivo, que comienza con `n`, y que computa el valor del factorial de n, pero deja pendiente de forma recursiva el cómputo a través de la invocación recursiva de la función.\n",
    "2. El caso base que será el valor de `0`, que nos sirve como mecanismo de parada.\n",
    "\n",
    "Con esta definición. implemente en Scala su correspondiente implementación:"
   ]
  },
  {
   "cell_type": "code",
   "execution_count": null,
   "metadata": {},
   "outputs": [],
   "source": [
    "def factorial(n:Int):Int = ???"
   ]
  },
  {
   "cell_type": "markdown",
   "metadata": {},
   "source": [
    "## Algoritmo de suma\n",
    "\n",
    "Una función que sume dos valores, se implementa en la siguiente función (sin recursividad):"
   ]
  },
  {
   "cell_type": "code",
   "execution_count": null,
   "metadata": {},
   "outputs": [],
   "source": [
    "def suma(a:Int, b:Int) = a + b"
   ]
  },
  {
   "cell_type": "markdown",
   "metadata": {},
   "source": [
    "Ahora, busquemos otra forma definir la función de suma de forma recursiva que llamaremos `sumaRec` (***que solamente aceptará entero positivos***), esto nos permite enfocarnos sobre el diseño recursivo. Esta función `sumaRec` tendrá la siguiente firma:"
   ]
  },
  {
   "cell_type": "code",
   "execution_count": null,
   "metadata": {},
   "outputs": [],
   "source": [
    "def sumaRec(a:Int, b:Int):Int = ???"
   ]
  },
  {
   "cell_type": "markdown",
   "metadata": {},
   "source": [
    "Observe en primer lugar que nuestra función `sumaRec` indica el tipo de retorno, esto es ***fundamental*** en la funciones recursivas.\n",
    "Vamos a implementar la función de `sumaRec` a través de dos operaciones internas: `incr` y `decr`, donde la primera incrementa un entero en uno y la segunda lo decrementa en uno. "
   ]
  },
  {
   "cell_type": "code",
   "execution_count": null,
   "metadata": {},
   "outputs": [],
   "source": [
    "def incr(n:Int) = n + 1\n",
    "def decr(n:Int) = n - 1"
   ]
  },
  {
   "cell_type": "markdown",
   "metadata": {},
   "source": [
    "La definición de `sumaRec` se hace de la siguiente forma:\n",
    "![sumaRec](./imagenes/sumarec_def.png)\n",
    "\n",
    "A continuación, está la firma de la función `sumaRec`, implemente la función adicionado un cuerpo de acuerdo a la definición siguiente:"
   ]
  },
  {
   "cell_type": "code",
   "execution_count": null,
   "metadata": {},
   "outputs": [],
   "source": [
    "def sumaRec(a:Int,b:Int):Int = ???"
   ]
  },
  {
   "cell_type": "markdown",
   "metadata": {},
   "source": [
    "**Pista:** Sustituya la anterior función con este posible cuerpo y complételo:\n",
    "\n",
    "```{.scala}\n",
    "def sumaRec(a:Int,b:Int):Int = (a,b) match {\n",
    "   case (...,...) => ....\n",
    "}\n",
    "```"
   ]
  }
 ],
 "metadata": {
  "kernelspec": {
   "display_name": "Scala",
   "language": "scala",
   "name": "scala"
  },
  "language_info": {
   "codemirror_mode": "text/x-scala",
   "file_extension": ".sc",
   "mimetype": "text/x-scala",
   "name": "scala",
   "nbconvert_exporter": "script",
   "version": "2.13.3"
  }
 },
 "nbformat": 4,
 "nbformat_minor": 4
}
